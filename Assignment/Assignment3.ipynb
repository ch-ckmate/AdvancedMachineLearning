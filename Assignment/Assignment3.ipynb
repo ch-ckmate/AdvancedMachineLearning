{
 "cells": [
  {
   "cell_type": "markdown",
   "metadata": {},
   "source": [
    "# AML - Assignment N°3"
   ]
  },
  {
   "cell_type": "markdown",
   "metadata": {},
   "source": [
    ">Nome: **Alessandro**  \n",
    "Cognome: **Pigato**  \n",
    "N° Matricola: **852482**  "
   ]
  },
  {
   "cell_type": "markdown",
   "metadata": {},
   "source": [
    "Using the mnist dataset create a CNN with:\n",
    "  \n",
    ">* Less than 7000 paramenters\n"
   ]
  },
  {
   "cell_type": "markdown",
   "metadata": {},
   "source": [
    "# Import libraries"
   ]
  },
  {
   "cell_type": "code",
   "execution_count": 1,
   "metadata": {},
   "outputs": [],
   "source": [
    "import numpy as np\n",
    "import keras\n",
    "from keras.datasets import mnist\n",
    "from keras import layers\n",
    "from keras import models\n",
    "from keras import optimizers\n",
    "from sklearn.metrics import classification_report\n",
    "from keras.utils import to_categorical\n",
    "import matplotlib.pyplot as plt\n",
    "import random"
   ]
  },
  {
   "cell_type": "markdown",
   "metadata": {},
   "source": [
    "# Import Dataset and Exploration"
   ]
  },
  {
   "cell_type": "code",
   "execution_count": 2,
   "metadata": {},
   "outputs": [],
   "source": [
    "(train_images, train_labels), (test_images, test_labels) = mnist.load_data()"
   ]
  },
  {
   "cell_type": "code",
   "execution_count": 5,
   "metadata": {},
   "outputs": [
    {
     "data": {
      "image/png": "[encoded data removed]",
      "text/plain": [
       "<Figure size 432x288 with 1 Axes>"
      ]
     },
     "metadata": {
      "needs_background": "light"
     },
     "output_type": "display_data"
    }
   ],
   "source": [
    "fig = pyplot.figure()\n",
    "ax = fig.add_subplot(1,1,1)\n",
    "imgplot = ax.imshow(train_images[random.randint(0,9)], cmap=mpl.cm.Greys)\n",
    "imgplot.set_interpolation('nearest')\n",
    "ax.xaxis.set_ticks_position('top')\n",
    "ax.yaxis.set_ticks_position('left')\n",
    "pyplot.show()"
   ]
  },
  {
   "cell_type": "markdown",
   "metadata": {},
   "source": [
    "## Pre Process"
   ]
  },
  {
   "cell_type": "code",
   "execution_count": 3,
   "metadata": {},
   "outputs": [],
   "source": [
    "#Number of channels \n",
    "channels = 1\n",
    "\n",
    "#Reshaping on TRAIN \n",
    "train_images = train_images.reshape((train_images.shape[0], \n",
    "                                     train_images.shape[1], \n",
    "                                     train_images.shape[2],\n",
    "                                     channels))\n",
    "train_images = train_images.astype('float32') / 255\n",
    "\n",
    "#Reshaping on TEST \n",
    "test_images = test_images.reshape((test_images.shape[0], \n",
    "                                   test_images.shape[1], \n",
    "                                   test_images.shape[2],\n",
    "                                   channels))\n",
    "test_images = test_images.astype('float32') / 255\n",
    "\n",
    "#Labels transforming into categorical\n",
    "train_labels = to_categorical(train_labels)\n",
    "test_labels = to_categorical(test_labels)"
   ]
  },
  {
   "cell_type": "code",
   "execution_count": 7,
   "metadata": {},
   "outputs": [],
   "source": [
    "num_class  = train_labels.shape[1]"
   ]
  },
  {
   "cell_type": "code",
   "execution_count": 8,
   "metadata": {},
   "outputs": [
    {
     "data": {
      "text/plain": [
       "(28, 28, 1)"
      ]
     },
     "execution_count": 8,
     "metadata": {},
     "output_type": "execute_result"
    }
   ],
   "source": [
    "train_images.shape[1:]"
   ]
  },
  {
   "cell_type": "markdown",
   "metadata": {},
   "source": [
    "# Training"
   ]
  },
  {
   "cell_type": "markdown",
   "metadata": {},
   "source": [
    "Defining the CNN so that i have less than 7000 total parameters.\n",
    ">The Conv2D layer: creates a convolution kernel that is convolved with the layer input to produce a tensor of outputs.  \n",
    "Average Pooling layer: average pooling operation for spatial data.  \n",
    "Flatten layer: with this layer we remove all dimensions except for one.  \n",
    "Using Relu as activation function and the softmax for the last dense layer, as optimizer adam that is a stochastic gradient descent method based on adaptive estimation of first-order and second-order moments; categorical crossentropy for the loss function and than fit the model with 20 epochs and 128 as batch size."
   ]
  },
  {
   "cell_type": "code",
   "execution_count": 9,
   "metadata": {},
   "outputs": [
    {
     "name": "stdout",
     "output_type": "stream",
     "text": [
      "Model: \"sequential\"\n",
      "_________________________________________________________________\n",
      "Layer (type)                 Output Shape              Param #   \n",
      "=================================================================\n",
      "conv2d (Conv2D)              (None, 26, 26, 16)        160       \n",
      "_________________________________________________________________\n",
      "average_pooling2d (AveragePo (None, 13, 13, 16)        0         \n",
      "_________________________________________________________________\n",
      "conv2d_1 (Conv2D)            (None, 11, 11, 16)        2320      \n",
      "_________________________________________________________________\n",
      "average_pooling2d_1 (Average (None, 5, 5, 16)          0         \n",
      "_________________________________________________________________\n",
      "flatten (Flatten)            (None, 400)               0         \n",
      "_________________________________________________________________\n",
      "dense (Dense)                (None, 10)                4010      \n",
      "=================================================================\n",
      "Total params: 6,490\n",
      "Trainable params: 6,490\n",
      "Non-trainable params: 0\n",
      "_________________________________________________________________\n"
     ]
    }
   ],
   "source": [
    "def CNN(dim_pool):\n",
    "    \n",
    "    model = models.Sequential()\n",
    "    model.add(layers.Conv2D(16,(3,3),activation='relu', input_shape=train_images.shape[1:]))\n",
    "    model.add(layers.AveragePooling2D(dim_pool))\n",
    "    model.add(layers.Conv2D(16, (3, 3), activation='relu'))\n",
    "    model.add(layers.AveragePooling2D(dim_pool))\n",
    "    model.add(layers.Flatten())\n",
    "    model.add(layers.Dense(num_class, activation='softmax'))\n",
    "    model.summary()\n",
    "    \n",
    "    return model\n",
    "model = CNN(dim_pool = (2,2))"
   ]
  },
  {
   "cell_type": "code",
   "execution_count": 11,
   "metadata": {},
   "outputs": [
    {
     "name": "stdout",
     "output_type": "stream",
     "text": [
      "Epoch 1/20\n",
      "422/422 [==============================] - 10s 23ms/step - loss: 0.5550 - accuracy: 0.8417 - val_loss: 0.1974 - val_accuracy: 0.9485\n",
      "Epoch 2/20\n",
      "422/422 [==============================] - 9s 22ms/step - loss: 0.1869 - accuracy: 0.9467 - val_loss: 0.1206 - val_accuracy: 0.9695\n",
      "Epoch 3/20\n",
      "422/422 [==============================] - 9s 22ms/step - loss: 0.1267 - accuracy: 0.9636 - val_loss: 0.0931 - val_accuracy: 0.9752\n",
      "Epoch 4/20\n",
      "422/422 [==============================] - 9s 20ms/step - loss: 0.1007 - accuracy: 0.9702 - val_loss: 0.0841 - val_accuracy: 0.9778\n",
      "Epoch 5/20\n",
      "422/422 [==============================] - 10s 23ms/step - loss: 0.0879 - accuracy: 0.9743 - val_loss: 0.0747 - val_accuracy: 0.9813\n",
      "Epoch 6/20\n",
      "422/422 [==============================] - 10s 23ms/step - loss: 0.0779 - accuracy: 0.9766 - val_loss: 0.0691 - val_accuracy: 0.9838\n",
      "Epoch 7/20\n",
      "422/422 [==============================] - 10s 23ms/step - loss: 0.0716 - accuracy: 0.9780 - val_loss: 0.0684 - val_accuracy: 0.9817\n",
      "Epoch 8/20\n",
      "422/422 [==============================] - 9s 22ms/step - loss: 0.0665 - accuracy: 0.9804 - val_loss: 0.0632 - val_accuracy: 0.9830\n",
      "Epoch 9/20\n",
      "422/422 [==============================] - 10s 24ms/step - loss: 0.0622 - accuracy: 0.9813 - val_loss: 0.0671 - val_accuracy: 0.9827\n",
      "Epoch 10/20\n",
      "422/422 [==============================] - 9s 22ms/step - loss: 0.0586 - accuracy: 0.9817 - val_loss: 0.0576 - val_accuracy: 0.9860\n",
      "Epoch 11/20\n",
      "422/422 [==============================] - 9s 21ms/step - loss: 0.0559 - accuracy: 0.9831 - val_loss: 0.0604 - val_accuracy: 0.9845\n",
      "Epoch 12/20\n",
      "422/422 [==============================] - 10s 24ms/step - loss: 0.0527 - accuracy: 0.9840 - val_loss: 0.0609 - val_accuracy: 0.9847\n",
      "Epoch 13/20\n",
      "422/422 [==============================] - 10s 23ms/step - loss: 0.0505 - accuracy: 0.9844 - val_loss: 0.0551 - val_accuracy: 0.9870\n",
      "Epoch 14/20\n",
      "422/422 [==============================] - 9s 21ms/step - loss: 0.0482 - accuracy: 0.9852 - val_loss: 0.0557 - val_accuracy: 0.9842\n",
      "Epoch 15/20\n",
      "422/422 [==============================] - 9s 22ms/step - loss: 0.0464 - accuracy: 0.9854 - val_loss: 0.0536 - val_accuracy: 0.9877\n",
      "Epoch 16/20\n",
      "422/422 [==============================] - 9s 22ms/step - loss: 0.0446 - accuracy: 0.9859 - val_loss: 0.0569 - val_accuracy: 0.9852\n",
      "Epoch 17/20\n",
      "422/422 [==============================] - 9s 21ms/step - loss: 0.0431 - accuracy: 0.9865 - val_loss: 0.0524 - val_accuracy: 0.9858\n",
      "Epoch 18/20\n",
      "422/422 [==============================] - 9s 22ms/step - loss: 0.0409 - accuracy: 0.9872 - val_loss: 0.0518 - val_accuracy: 0.9860\n",
      "Epoch 19/20\n",
      "422/422 [==============================] - 10s 23ms/step - loss: 0.0393 - accuracy: 0.9877 - val_loss: 0.0472 - val_accuracy: 0.9870\n",
      "Epoch 20/20\n",
      "422/422 [==============================] - 9s 21ms/step - loss: 0.0385 - accuracy: 0.9884 - val_loss: 0.0509 - val_accuracy: 0.9867\n"
     ]
    }
   ],
   "source": [
    "adam = optimizers.Adam(learning_rate=0.001)\n",
    "model.compile(loss='categorical_crossentropy',\n",
    "              optimizer=adam, \n",
    "              metrics=['accuracy'])\n",
    "model_history = model.fit(train_images, train_labels, validation_split = 0.1,\n",
    "                          batch_size=128, epochs=20, verbose=1)"
   ]
  },
  {
   "cell_type": "code",
   "execution_count": 19,
   "metadata": {},
   "outputs": [
    {
     "data": {
      "image/png": "[encoded data removed]",
      "text/plain": [
       "<Figure size 432x288 with 1 Axes>"
      ]
     },
     "metadata": {
      "needs_background": "light"
     },
     "output_type": "display_data"
    },
    {
     "data": {
      "image/png": "[encoded data removed]",
      "text/plain": [
       "<Figure size 432x288 with 1 Axes>"
      ]
     },
     "metadata": {
      "needs_background": "light"
     },
     "output_type": "display_data"
    }
   ],
   "source": [
    "x_plot = list(range(1,20+1))\n",
    "\n",
    "def plot_history(network_history):\n",
    "    plt.figure()\n",
    "    plt.xlabel('Epochs')\n",
    "    plt.ylabel('Loss')\n",
    "    plt.plot(x_plot, network_history.history['loss'])\n",
    "    plt.plot(x_plot, network_history.history['val_loss'])\n",
    "    plt.legend(['Training', 'Validation'])\n",
    "\n",
    "    plt.figure()\n",
    "    plt.xlabel('Epochs')\n",
    "    plt.ylabel('Accuracy')\n",
    "    plt.plot(x_plot, network_history.history['accuracy'])\n",
    "    plt.plot(x_plot, network_history.history['val_accuracy'])\n",
    "    plt.legend(['Training', 'Validation'], loc='lower right')\n",
    "    plt.show()\n",
    "\n",
    "plot_history(model_history)"
   ]
  },
  {
   "cell_type": "markdown",
   "metadata": {},
   "source": [
    "## Metrics on Train set"
   ]
  },
  {
   "cell_type": "code",
   "execution_count": 20,
   "metadata": {},
   "outputs": [
    {
     "name": "stdout",
     "output_type": "stream",
     "text": [
      "WARNING:tensorflow:From <ipython-input-20-ea0bf77f7e6e>:1: Sequential.predict_classes (from tensorflow.python.keras.engine.sequential) is deprecated and will be removed after 2021-01-01.\n",
      "Instructions for updating:\n",
      "Please use instead:* `np.argmax(model.predict(x), axis=-1)`,   if your model does multi-class classification   (e.g. if it uses a `softmax` last-layer activation).* `(model.predict(x) > 0.5).astype(\"int32\")`,   if your model does binary classification   (e.g. if it uses a `sigmoid` last-layer activation).\n",
      "Classification Report: TRAIN\n",
      "\n",
      "               precision    recall  f1-score   support\n",
      "\n",
      "           0       0.99      1.00      1.00      5923\n",
      "           1       0.99      1.00      0.99      6742\n",
      "           2       1.00      0.98      0.99      5958\n",
      "           3       0.98      0.99      0.99      6131\n",
      "           4       0.99      0.99      0.99      5842\n",
      "           5       0.99      0.99      0.99      5421\n",
      "           6       0.99      0.99      0.99      5918\n",
      "           7       0.98      0.99      0.99      6265\n",
      "           8       0.98      0.99      0.98      5851\n",
      "           9       0.99      0.98      0.98      5949\n",
      "\n",
      "    accuracy                           0.99     60000\n",
      "   macro avg       0.99      0.99      0.99     60000\n",
      "weighted avg       0.99      0.99      0.99     60000\n",
      "\n"
     ]
    }
   ],
   "source": [
    "y_train_pred = model.predict_classes(train_images)\n",
    "y_train_true = []\n",
    "for i in range(len(train_labels)):\n",
    "    y_train_true.append(np.argmax(train_labels[i]))\n",
    "y_train_true=np.array(y_train_true)\n",
    "\n",
    "target_num = ['0','1', '2', '3', '4', '5', '6', '7', '8', '9']\n",
    "print('Classification Report: TRAIN\\n\\n', classification_report(y_train_true, y_train_pred, target_names=target_num))"
   ]
  },
  {
   "cell_type": "markdown",
   "metadata": {},
   "source": [
    "The model performs very well on training and validation set, now let's see how performs on unseen data."
   ]
  },
  {
   "cell_type": "markdown",
   "metadata": {},
   "source": [
    "## Metrics on Test set"
   ]
  },
  {
   "cell_type": "code",
   "execution_count": 21,
   "metadata": {},
   "outputs": [
    {
     "name": "stdout",
     "output_type": "stream",
     "text": [
      "Classification Report: TEST\n",
      "\n",
      "               precision    recall  f1-score   support\n",
      "\n",
      "           0       0.98      0.99      0.99       980\n",
      "           1       0.99      0.99      0.99      1135\n",
      "           2       0.99      0.97      0.98      1032\n",
      "           3       0.98      0.99      0.99      1010\n",
      "           4       0.99      0.99      0.99       982\n",
      "           5       0.99      0.98      0.98       892\n",
      "           6       0.99      0.99      0.99       958\n",
      "           7       0.98      0.99      0.98      1028\n",
      "           8       0.97      0.98      0.98       974\n",
      "           9       0.99      0.97      0.98      1009\n",
      "\n",
      "    accuracy                           0.99     10000\n",
      "   macro avg       0.99      0.99      0.99     10000\n",
      "weighted avg       0.99      0.99      0.99     10000\n",
      "\n"
     ]
    }
   ],
   "source": [
    "y_test_pred = model.predict_classes(test_images)\n",
    "y_test_true = []\n",
    "for i in range(len(test_labels)):\n",
    "    y_test_true.append(np.argmax(test_labels[i]))\n",
    "y_test_true=np.array(y_test_true)\n",
    "\n",
    "target_num = ['0','1', '2', '3', '4', '5', '6', '7', '8', '9']\n",
    "print('Classification Report: TEST\\n\\n',classification_report(y_test_true, y_test_pred, target_names=target_num))"
   ]
  },
  {
   "cell_type": "markdown",
   "metadata": {},
   "source": [
    "## Conclusion"
   ]
  },
  {
   "cell_type": "markdown",
   "metadata": {},
   "source": [
    "As we can see the model perform well both on the train and test set with 0.99 accuracy, only few observations have not been classified correctly"
   ]
  }
 ],
 "metadata": {
  "kernelspec": {
   "display_name": "Python 3",
   "language": "python",
   "name": "python3"
  },
  "language_info": {
   "codemirror_mode": {
    "name": "ipython",
    "version": 3
   },
   "file_extension": ".py",
   "mimetype": "text/x-python",
   "name": "python",
   "nbconvert_exporter": "python",
   "pygments_lexer": "ipython3",
   "version": "3.8.3"
  },
  "latex_envs": {
   "LaTeX_envs_menu_present": true,
   "autoclose": false,
   "autocomplete": true,
   "bibliofile": "biblio.bib",
   "cite_by": "apalike",
   "current_citInitial": 1,
   "eqLabelWithNumbers": true,
   "eqNumInitial": 1,
   "hotkeys": {
    "equation": "Ctrl-E",
    "itemize": "Ctrl-I"
   },
   "labels_anchors": false,
   "latex_user_defs": false,
   "report_style_numbering": false,
   "user_envs_cfg": false
  },
  "varInspector": {
   "cols": {
    "lenName": 16,
    "lenType": 16,
    "lenVar": 40
   },
   "kernels_config": {
    "python": {
     "delete_cmd_postfix": "",
     "delete_cmd_prefix": "del ",
     "library": "var_list.py",
     "varRefreshCmd": "print(var_dic_list())"
    },
    "r": {
     "delete_cmd_postfix": ") ",
     "delete_cmd_prefix": "rm(",
     "library": "var_list.r",
     "varRefreshCmd": "cat(var_dic_list()) "
    }
   },
   "types_to_exclude": [
    "module",
    "function",
    "builtin_function_or_method",
    "instance",
    "_Feature"
   ],
   "window_display": false
  }
 },
 "nbformat": 4,
 "nbformat_minor": 4
}
