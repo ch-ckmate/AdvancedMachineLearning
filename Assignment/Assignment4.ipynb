{
 "cells": [
  {
   "cell_type": "markdown",
   "metadata": {
    "id": "v1n36X57rTCD"
   },
   "source": [
    "# AML - Assignment N°4"
   ]
  },
  {
   "cell_type": "code",
   "execution_count": 1,
   "metadata": {
    "colab": {
     "base_uri": "https://localhost:8080/"
    },
    "id": "Uhg_GZNkrZkk",
    "outputId": "99f45517-0dd5-4bed-eb6f-e6d81aba4f8d"
   },
   "outputs": [
    {
     "name": "stdout",
     "output_type": "stream",
     "text": [
      "Drive already mounted at /content/drive; to attempt to forcibly remount, call drive.mount(\"/content/drive\", force_remount=True).\n"
     ]
    }
   ],
   "source": [
    "from google.colab import drive\n",
    "drive.mount('/content/drive')"
   ]
  },
  {
   "cell_type": "markdown",
   "metadata": {
    "id": "7JB1zTX_rTCP"
   },
   "source": [
    ">Nome: **Alessandro**  \n",
    "Cognome: **Pigato**  \n",
    "N° Matricola: **852482**  "
   ]
  },
  {
   "cell_type": "markdown",
   "metadata": {
    "id": "bXWsJ67trTCQ"
   },
   "source": [
    "The task of this assignment is Transfer Learning using a CNN pretrained on IMAGENET.\n",
    "  \n",
    ">* The CNN should be used as fixed feature extractor on a new task of your choice containing a number of classes in the range from 2 to 10. \n",
    "* The chosen \"classical\" classifier  \n",
    "* For each transfer learning experiment:  \n",
    "  -The details about the chosen layer  \n",
    "  -The plot of the classification performance on train/val/test for the    ifferent layers considered  \n",
    "  -The hyper-parameters used for training the \"classical\" classifier  \n"
   ]
  },
  {
   "cell_type": "markdown",
   "metadata": {
    "id": "TeFANlhWrTCQ"
   },
   "source": [
    "# Import libraries"
   ]
  },
  {
   "cell_type": "code",
   "execution_count": 23,
   "metadata": {
    "id": "H7p8_maXrTCR"
   },
   "outputs": [],
   "source": [
    "import numpy as np\n",
    "import keras\n",
    "from keras.datasets import mnist\n",
    "from keras import layers\n",
    "from keras import models\n",
    "from sklearn.metrics import confusion_matrix, accuracy_score\n",
    "from keras import optimizers\n",
    "import seaborn as sns\n",
    "import tensorflow as tf\n",
    "import cv2\n",
    "from sklearn.linear_model import LogisticRegression\n",
    "from tensorflow.keras.models import Model\n",
    "from tensorflow.keras.models import Sequential\n",
    "from tensorflow.keras.applications.vgg16 import VGG16\n",
    "from tensorflow.keras.preprocessing import image\n",
    "from tensorflow.keras.applications.vgg16 import preprocess_input\n",
    "from sklearn.metrics import classification_report\n",
    "from sklearn.model_selection import train_test_split\n",
    "from keras.utils import to_categorical\n",
    "import matplotlib.pyplot as plt\n",
    "import random\n",
    "import pathlib\n",
    "import os"
   ]
  },
  {
   "cell_type": "markdown",
   "metadata": {
    "id": "U_I2A0RqrTCS"
   },
   "source": [
    "For this assignment has been used this dataset: https://www.kaggle.com/alxmamaev/flowers-recognition  \n",
    "The dataset is composed of approximately 4242 flower photos and contains 5 class: daisy, dandelion, roses, sunflowers, tulips.\n",
    "\n",
    "The data collection is based on the data flicr, google images, yandex images.\n"
   ]
  },
  {
   "cell_type": "markdown",
   "metadata": {
    "id": "noPQw93_rmL9"
   },
   "source": [
    "# Import Dataset"
   ]
  },
  {
   "cell_type": "markdown",
   "metadata": {},
   "source": [
    "In the downloaded zip file from kaggle there is also a backup folder 'flowers' delete it using:"
   ]
  },
  {
   "cell_type": "code",
   "execution_count": null,
   "metadata": {},
   "outputs": [],
   "source": [
    "import shutil\n",
    "shutil.rmtree('/flowers/flowers', ignore_errors=True)"
   ]
  },
  {
   "cell_type": "code",
   "execution_count": 2,
   "metadata": {
    "colab": {
     "base_uri": "https://localhost:8080/"
    },
    "id": "_Rlt_6trHkG1",
    "outputId": "af3d0390-49b5-41b3-f91d-ab054cff43c6"
   },
   "outputs": [
    {
     "name": "stdout",
     "output_type": "stream",
     "text": [
      "['daisy', 'dandelion', 'rose', 'sunflower', 'tulip']\n"
     ]
    }
   ],
   "source": [
    "data='flowers'\n",
    "folders=os.listdir(\"flowers\")\n",
    "print(folders)"
   ]
  },
  {
   "cell_type": "code",
   "execution_count": 5,
   "metadata": {
    "colab": {
     "base_uri": "https://localhost:8080/",
     "height": 231
    },
    "id": "82PiHgSprTCT",
    "outputId": "8f7f3167-bd4c-4b28-cc2d-4446d5c2bd82"
   },
   "outputs": [],
   "source": [
    "# Read and resize the images\n",
    "size=(64,64)\n",
    "image_train=[]\n",
    "image_names=[]\n",
    "image_labels=[]\n",
    "\n",
    "for folder in folders:\n",
    "    for each in os.listdir(os.path.join(data,folder)):\n",
    "        if each.endswith('jpg'):\n",
    "            image_names.append(os.path.join(data,folder,each))\n",
    "            image_labels.append(folder)\n",
    "            img=cv2.imread(os.path.join(data,folder,each))\n",
    "            img_in=cv2.resize(img,size)\n",
    "            img_in=np.expand_dims(img_in, axis=0)\n",
    "            image_train.append(img_in)\n",
    "        else:\n",
    "            continue"
   ]
  },
  {
   "cell_type": "markdown",
   "metadata": {
    "id": "_3oKjBbQrTCX"
   },
   "source": [
    "## Pre Process"
   ]
  },
  {
   "cell_type": "code",
   "execution_count": null,
   "metadata": {},
   "outputs": [],
   "source": [
    "# Here it is created a function for the pre-process of the images\n",
    "def feature_list(data, model):\n",
    "    feature_list = []\n",
    "    for img_data in data:\n",
    "        feature = model.predict(img_data)\n",
    "        feature = np.array(feature)\n",
    "        feature_list.append(feature.flatten())\n",
    "    feature_list = np.array(feature_list)\n",
    "    return  feature_list"
   ]
  },
  {
   "cell_type": "code",
   "execution_count": 7,
   "metadata": {},
   "outputs": [],
   "source": [
    "X_train,X_val,Y_train,Y_val=train_test_split(image_train,image_labels,test_size=0.2)"
   ]
  },
  {
   "cell_type": "markdown",
   "metadata": {
    "id": "9t4J82p3rTCY"
   },
   "source": [
    "# Training"
   ]
  },
  {
   "cell_type": "code",
   "execution_count": 8,
   "metadata": {
    "id": "ONF4Ed4grTCY"
   },
   "outputs": [],
   "source": [
    "# Import of the pre trained vgg16 with specified input shape\n",
    "base_net = VGG16(input_shape=(64,64,3), weights='imagenet', include_top=False)"
   ]
  },
  {
   "cell_type": "markdown",
   "metadata": {},
   "source": [
    "Features are analyzed below in 3 different point with the logistic regression."
   ]
  },
  {
   "cell_type": "markdown",
   "metadata": {},
   "source": [
    "## First experiment: VGG16 up to block3_pool"
   ]
  },
  {
   "cell_type": "code",
   "execution_count": 15,
   "metadata": {},
   "outputs": [
    {
     "name": "stdout",
     "output_type": "stream",
     "text": [
      "Model: \"functional_5\"\n",
      "_________________________________________________________________\n",
      "Layer (type)                 Output Shape              Param #   \n",
      "=================================================================\n",
      "input_1 (InputLayer)         [(None, 64, 64, 3)]       0         \n",
      "_________________________________________________________________\n",
      "block1_conv1 (Conv2D)        (None, 64, 64, 64)        1792      \n",
      "_________________________________________________________________\n",
      "block1_conv2 (Conv2D)        (None, 64, 64, 64)        36928     \n",
      "_________________________________________________________________\n",
      "block1_pool (MaxPooling2D)   (None, 32, 32, 64)        0         \n",
      "_________________________________________________________________\n",
      "block2_conv1 (Conv2D)        (None, 32, 32, 128)       73856     \n",
      "_________________________________________________________________\n",
      "block2_conv2 (Conv2D)        (None, 32, 32, 128)       147584    \n",
      "_________________________________________________________________\n",
      "block2_pool (MaxPooling2D)   (None, 16, 16, 128)       0         \n",
      "_________________________________________________________________\n",
      "block3_conv1 (Conv2D)        (None, 16, 16, 256)       295168    \n",
      "_________________________________________________________________\n",
      "block3_conv2 (Conv2D)        (None, 16, 16, 256)       590080    \n",
      "_________________________________________________________________\n",
      "block3_conv3 (Conv2D)        (None, 16, 16, 256)       590080    \n",
      "_________________________________________________________________\n",
      "block3_pool (MaxPooling2D)   (None, 8, 8, 256)         0         \n",
      "=================================================================\n",
      "Total params: 1,735,488\n",
      "Trainable params: 1,735,488\n",
      "Non-trainable params: 0\n",
      "_________________________________________________________________\n"
     ]
    }
   ],
   "source": [
    "model_1 = Model(base_net.input, base_net.get_layer('block3_pool').output) \n",
    "model_1.summary()\n",
    "train_feature = feature_list(X_train, model_1)\n",
    "test_features = feature_list(X_val, model_1)"
   ]
  },
  {
   "cell_type": "markdown",
   "metadata": {},
   "source": [
    "Has been used the Logistic Regression as classifier with the following parameters:  \n",
    "• solver=’newton-cg’  \n",
    "• multi class=’multinomial’  \n",
    "• max iter=200  "
   ]
  },
  {
   "cell_type": "code",
   "execution_count": 16,
   "metadata": {},
   "outputs": [],
   "source": [
    "lr = LogisticRegression(random_state=1234, \n",
    "                         solver='newton-cg', \n",
    "                         multi_class='multinomial',\n",
    "                         max_iter=200)"
   ]
  },
  {
   "cell_type": "markdown",
   "metadata": {},
   "source": [
    "In the cell below there is a warning regarding the failure of the line search, this message disappera with max_iter = 4000, for computational reason i chose 200."
   ]
  },
  {
   "cell_type": "code",
   "execution_count": 17,
   "metadata": {},
   "outputs": [
    {
     "name": "stderr",
     "output_type": "stream",
     "text": [
      "C:\\Anaconda\\lib\\site-packages\\scipy\\optimize\\linesearch.py:327: LineSearchWarning: The line search algorithm did not converge\n",
      "  warn('The line search algorithm did not converge', LineSearchWarning)\n",
      "C:\\Anaconda\\lib\\site-packages\\sklearn\\utils\\optimize.py:204: UserWarning: Line Search failed\n",
      "  warnings.warn('Line Search failed')\n"
     ]
    }
   ],
   "source": [
    "lr_fit = lr.fit(train_feature, Y_train)"
   ]
  },
  {
   "cell_type": "code",
   "execution_count": 19,
   "metadata": {},
   "outputs": [],
   "source": [
    "# Here it is created a function for performance report\n",
    "def pred_out(opt, features, label):\n",
    "    class_labels = ['daisy', 'dandelion', 'rose', 'sunflower', 'tulip']\n",
    "    opt.score(features, label)\n",
    "    preds = opt.predict(features)\n",
    "    print(\"\\nAccuracy:: \", accuracy_score(label, preds))\n",
    "    print(\"\\nNumber of correctly identified imgaes: \",accuracy_score(label, preds, normalize=False),\" out of \", len(features),\"\\n\")\n",
    "    %matplotlib inline\n",
    "    matrix = confusion_matrix(label, preds)\n",
    "    plt.figure(figsize=(6, 5))\n",
    "    ax = sns.heatmap(matrix,annot=True,cbar=True,cmap=\"YlGnBu\", fmt=\"d\")\n",
    "    plt.tight_layout()\n",
    "    locs_x, labels_x=plt.xticks()\n",
    "    x_ticks = []\n",
    "    plt.xticks(locs_x,class_labels, rotation=45)\n",
    "    locs_y, labels_y=plt.yticks()\n",
    "    y_ticks = []\n",
    "    plt.yticks(locs_y,class_labels, rotation=0)\n",
    "    plt.ylabel('True Label')\n",
    "    plt.xlabel('Predicted Label')\n",
    "    plt.title('Confusion Matrix')\n",
    "    plt.show()\n",
    "    return preds"
   ]
  },
  {
   "cell_type": "code",
   "execution_count": 26,
   "metadata": {},
   "outputs": [
    {
     "name": "stdout",
     "output_type": "stream",
     "text": [
      "\n",
      "Accuracy::  0.9988432620011567\n",
      "\n",
      "Number of correctly identified imgaes:  3454  out of  3458 \n",
      "\n"
     ]
    },
    {
     "data": {
      "image/png": "[encoded data removed]",
      "text/plain": [
       "<Figure size 432x360 with 2 Axes>"
      ]
     },
     "metadata": {
      "needs_background": "light"
     },
     "output_type": "display_data"
    }
   ],
   "source": [
    "pred_t = pred_out(lr_fit, train_feature, Y_train)"
   ]
  },
  {
   "cell_type": "code",
   "execution_count": 24,
   "metadata": {},
   "outputs": [
    {
     "name": "stdout",
     "output_type": "stream",
     "text": [
      "\n",
      "Accuracy::  0.7606936416184971\n",
      "\n",
      "Number of correctly identified imgaes:  658  out of  865 \n",
      "\n"
     ]
    },
    {
     "data": {
      "image/png": "[encoded data removed]",
      "text/plain": [
       "<Figure size 432x360 with 2 Axes>"
      ]
     },
     "metadata": {
      "needs_background": "light"
     },
     "output_type": "display_data"
    }
   ],
   "source": [
    "pred_y = pred_out(lr_fit, test_features, Y_val)"
   ]
  },
  {
   "cell_type": "code",
   "execution_count": 29,
   "metadata": {},
   "outputs": [
    {
     "name": "stdout",
     "output_type": "stream",
     "text": [
      "Results on Test \n",
      "               precision    recall  f1-score   support\n",
      "\n",
      "       daisy       0.78      0.71      0.74       174\n",
      "   dandelion       0.77      0.78      0.78       191\n",
      "        rose       0.72      0.72      0.72       164\n",
      "   sunflower       0.78      0.82      0.80       148\n",
      "       tulip       0.75      0.78      0.76       188\n",
      "\n",
      "    accuracy                           0.76       865\n",
      "   macro avg       0.76      0.76      0.76       865\n",
      "weighted avg       0.76      0.76      0.76       865\n",
      "\n",
      " \n",
      "Results on Train \n",
      "               precision    recall  f1-score   support\n",
      "\n",
      "       daisy       1.00      1.00      1.00       595\n",
      "   dandelion       1.00      1.00      1.00       861\n",
      "        rose       1.00      1.00      1.00       620\n",
      "   sunflower       1.00      1.00      1.00       586\n",
      "       tulip       1.00      1.00      1.00       796\n",
      "\n",
      "    accuracy                           1.00      3458\n",
      "   macro avg       1.00      1.00      1.00      3458\n",
      "weighted avg       1.00      1.00      1.00      3458\n",
      "\n"
     ]
    }
   ],
   "source": [
    "class_labels = ['daisy', 'dandelion', 'rose', 'sunflower', 'tulip']\n",
    "print(\"Results on Test \\n\", classification_report(Y_val, pred_y, target_names=class_labels))\n",
    "print(\" \\nResults on Train \\n\", classification_report(Y_train, pred_t, target_names=class_labels))"
   ]
  },
  {
   "cell_type": "markdown",
   "metadata": {},
   "source": [
    "# Second experiment: VGG16 up to block2_pool"
   ]
  },
  {
   "cell_type": "code",
   "execution_count": 31,
   "metadata": {
    "id": "Zr4jhFvdrTCc"
   },
   "outputs": [
    {
     "name": "stdout",
     "output_type": "stream",
     "text": [
      "Model: \"functional_7\"\n",
      "_________________________________________________________________\n",
      "Layer (type)                 Output Shape              Param #   \n",
      "=================================================================\n",
      "input_1 (InputLayer)         [(None, 64, 64, 3)]       0         \n",
      "_________________________________________________________________\n",
      "block1_conv1 (Conv2D)        (None, 64, 64, 64)        1792      \n",
      "_________________________________________________________________\n",
      "block1_conv2 (Conv2D)        (None, 64, 64, 64)        36928     \n",
      "_________________________________________________________________\n",
      "block1_pool (MaxPooling2D)   (None, 32, 32, 64)        0         \n",
      "_________________________________________________________________\n",
      "block2_conv1 (Conv2D)        (None, 32, 32, 128)       73856     \n",
      "_________________________________________________________________\n",
      "block2_conv2 (Conv2D)        (None, 32, 32, 128)       147584    \n",
      "_________________________________________________________________\n",
      "block2_pool (MaxPooling2D)   (None, 16, 16, 128)       0         \n",
      "=================================================================\n",
      "Total params: 260,160\n",
      "Trainable params: 260,160\n",
      "Non-trainable params: 0\n",
      "_________________________________________________________________\n"
     ]
    }
   ],
   "source": [
    "model2 = Model(base_net.input, base_net.get_layer('block2_pool').output) \n",
    "model2.summary()\n",
    "train_feature2 = feature_list(X_train, model2)\n",
    "test_features2 = feature_list(X_val, model2)"
   ]
  },
  {
   "cell_type": "code",
   "execution_count": 32,
   "metadata": {},
   "outputs": [
    {
     "name": "stderr",
     "output_type": "stream",
     "text": [
      "C:\\Anaconda\\lib\\site-packages\\scipy\\optimize\\linesearch.py:327: LineSearchWarning: The line search algorithm did not converge\n",
      "  warn('The line search algorithm did not converge', LineSearchWarning)\n",
      "C:\\Anaconda\\lib\\site-packages\\sklearn\\utils\\optimize.py:204: UserWarning: Line Search failed\n",
      "  warnings.warn('Line Search failed')\n"
     ]
    }
   ],
   "source": [
    "lr_fit2 = lr.fit(train_feature2, Y_train)"
   ]
  },
  {
   "cell_type": "code",
   "execution_count": 34,
   "metadata": {},
   "outputs": [
    {
     "name": "stdout",
     "output_type": "stream",
     "text": [
      "\n",
      "Accuracy::  0.9988432620011567\n",
      "\n",
      "Number of correctly identified imgaes:  3454  out of  3458 \n",
      "\n"
     ]
    },
    {
     "data": {
      "image/png": "[encoded data removed]",
      "text/plain": [
       "<Figure size 432x360 with 2 Axes>"
      ]
     },
     "metadata": {
      "needs_background": "light"
     },
     "output_type": "display_data"
    }
   ],
   "source": [
    "pred_t2 = pred_out(lr_fit2, train_feature2, Y_train)"
   ]
  },
  {
   "cell_type": "code",
   "execution_count": 35,
   "metadata": {},
   "outputs": [
    {
     "name": "stdout",
     "output_type": "stream",
     "text": [
      "\n",
      "Accuracy::  0.6578034682080924\n",
      "\n",
      "Number of correctly identified imgaes:  569  out of  865 \n",
      "\n"
     ]
    },
    {
     "data": {
      "image/png": "[encoded data removed]",
      "text/plain": [
       "<Figure size 432x360 with 2 Axes>"
      ]
     },
     "metadata": {
      "needs_background": "light"
     },
     "output_type": "display_data"
    }
   ],
   "source": [
    "pred_y2 = pred_out(lr_fit2, test_features2, Y_val)"
   ]
  },
  {
   "cell_type": "code",
   "execution_count": 36,
   "metadata": {
    "id": "hc1TheUKrTCd"
   },
   "outputs": [
    {
     "name": "stdout",
     "output_type": "stream",
     "text": [
      "Results on Test \n",
      "               precision    recall  f1-score   support\n",
      "\n",
      "       daisy       0.68      0.57      0.62       174\n",
      "   dandelion       0.64      0.75      0.69       191\n",
      "        rose       0.62      0.61      0.62       164\n",
      "   sunflower       0.71      0.68      0.70       148\n",
      "       tulip       0.65      0.66      0.66       188\n",
      "\n",
      "    accuracy                           0.66       865\n",
      "   macro avg       0.66      0.66      0.66       865\n",
      "weighted avg       0.66      0.66      0.66       865\n",
      "\n",
      " \n",
      "Results on Train \n",
      "               precision    recall  f1-score   support\n",
      "\n",
      "       daisy       1.00      1.00      1.00       595\n",
      "   dandelion       1.00      1.00      1.00       861\n",
      "        rose       1.00      1.00      1.00       620\n",
      "   sunflower       1.00      1.00      1.00       586\n",
      "       tulip       1.00      1.00      1.00       796\n",
      "\n",
      "    accuracy                           1.00      3458\n",
      "   macro avg       1.00      1.00      1.00      3458\n",
      "weighted avg       1.00      1.00      1.00      3458\n",
      "\n"
     ]
    }
   ],
   "source": [
    "print(\"Results on Test \\n\", classification_report(Y_val, pred_y2, target_names=class_labels))\n",
    "print(\" \\nResults on Train \\n\", classification_report(Y_train, pred_t2, target_names=class_labels))"
   ]
  },
  {
   "cell_type": "markdown",
   "metadata": {},
   "source": [
    "# Third experiment: VGG16 up to block5_conv2"
   ]
  },
  {
   "cell_type": "code",
   "execution_count": 37,
   "metadata": {
    "id": "efNck2pHw5__",
    "scrolled": true
   },
   "outputs": [
    {
     "name": "stdout",
     "output_type": "stream",
     "text": [
      "Model: \"functional_9\"\n",
      "_________________________________________________________________\n",
      "Layer (type)                 Output Shape              Param #   \n",
      "=================================================================\n",
      "input_1 (InputLayer)         [(None, 64, 64, 3)]       0         \n",
      "_________________________________________________________________\n",
      "block1_conv1 (Conv2D)        (None, 64, 64, 64)        1792      \n",
      "_________________________________________________________________\n",
      "block1_conv2 (Conv2D)        (None, 64, 64, 64)        36928     \n",
      "_________________________________________________________________\n",
      "block1_pool (MaxPooling2D)   (None, 32, 32, 64)        0         \n",
      "_________________________________________________________________\n",
      "block2_conv1 (Conv2D)        (None, 32, 32, 128)       73856     \n",
      "_________________________________________________________________\n",
      "block2_conv2 (Conv2D)        (None, 32, 32, 128)       147584    \n",
      "_________________________________________________________________\n",
      "block2_pool (MaxPooling2D)   (None, 16, 16, 128)       0         \n",
      "_________________________________________________________________\n",
      "block3_conv1 (Conv2D)        (None, 16, 16, 256)       295168    \n",
      "_________________________________________________________________\n",
      "block3_conv2 (Conv2D)        (None, 16, 16, 256)       590080    \n",
      "_________________________________________________________________\n",
      "block3_conv3 (Conv2D)        (None, 16, 16, 256)       590080    \n",
      "_________________________________________________________________\n",
      "block3_pool (MaxPooling2D)   (None, 8, 8, 256)         0         \n",
      "_________________________________________________________________\n",
      "block4_conv1 (Conv2D)        (None, 8, 8, 512)         1180160   \n",
      "_________________________________________________________________\n",
      "block4_conv2 (Conv2D)        (None, 8, 8, 512)         2359808   \n",
      "_________________________________________________________________\n",
      "block4_conv3 (Conv2D)        (None, 8, 8, 512)         2359808   \n",
      "_________________________________________________________________\n",
      "block4_pool (MaxPooling2D)   (None, 4, 4, 512)         0         \n",
      "_________________________________________________________________\n",
      "block5_conv1 (Conv2D)        (None, 4, 4, 512)         2359808   \n",
      "_________________________________________________________________\n",
      "block5_conv2 (Conv2D)        (None, 4, 4, 512)         2359808   \n",
      "=================================================================\n",
      "Total params: 12,354,880\n",
      "Trainable params: 12,354,880\n",
      "Non-trainable params: 0\n",
      "_________________________________________________________________\n"
     ]
    },
    {
     "name": "stderr",
     "output_type": "stream",
     "text": [
      "C:\\Anaconda\\lib\\site-packages\\scipy\\optimize\\linesearch.py:327: LineSearchWarning: The line search algorithm did not converge\n",
      "  warn('The line search algorithm did not converge', LineSearchWarning)\n",
      "C:\\Anaconda\\lib\\site-packages\\sklearn\\utils\\optimize.py:204: UserWarning: Line Search failed\n",
      "  warnings.warn('Line Search failed')\n"
     ]
    }
   ],
   "source": [
    "model3 = Model(base_net.input, base_net.get_layer('block5_conv2').output) \n",
    "model3.summary()\n",
    "train_feature3 = feature_list(X_train, model3)\n",
    "test_features3 = feature_list(X_val, model3)\n",
    "lr_fit3 = lr.fit(train_feature3, Y_train)"
   ]
  },
  {
   "cell_type": "code",
   "execution_count": 38,
   "metadata": {},
   "outputs": [
    {
     "name": "stdout",
     "output_type": "stream",
     "text": [
      "\n",
      "Accuracy::  0.9988432620011567\n",
      "\n",
      "Number of correctly identified imgaes:  3454  out of  3458 \n",
      "\n"
     ]
    },
    {
     "data": {
      "image/png": "[encoded data removed]",
      "text/plain": [
       "<Figure size 432x360 with 2 Axes>"
      ]
     },
     "metadata": {
      "needs_background": "light"
     },
     "output_type": "display_data"
    }
   ],
   "source": [
    "pred_t3 = pred_out(lr_fit3, train_feature3, Y_train)"
   ]
  },
  {
   "cell_type": "code",
   "execution_count": 39,
   "metadata": {},
   "outputs": [
    {
     "name": "stdout",
     "output_type": "stream",
     "text": [
      "\n",
      "Accuracy::  0.8\n",
      "\n",
      "Number of correctly identified imgaes:  692  out of  865 \n",
      "\n"
     ]
    },
    {
     "data": {
      "image/png": "[encoded data removed]",
      "text/plain": [
       "<Figure size 432x360 with 2 Axes>"
      ]
     },
     "metadata": {
      "needs_background": "light"
     },
     "output_type": "display_data"
    }
   ],
   "source": [
    "pred_y3 = pred_out(lr_fit3, test_features3, Y_val)"
   ]
  },
  {
   "cell_type": "code",
   "execution_count": 40,
   "metadata": {},
   "outputs": [
    {
     "name": "stdout",
     "output_type": "stream",
     "text": [
      "Results on Test \n",
      "               precision    recall  f1-score   support\n",
      "\n",
      "       daisy       0.82      0.74      0.77       174\n",
      "   dandelion       0.79      0.81      0.80       191\n",
      "        rose       0.77      0.79      0.78       164\n",
      "   sunflower       0.82      0.86      0.84       148\n",
      "       tulip       0.80      0.81      0.81       188\n",
      "\n",
      "    accuracy                           0.80       865\n",
      "   macro avg       0.80      0.80      0.80       865\n",
      "weighted avg       0.80      0.80      0.80       865\n",
      "\n",
      " \n",
      "Results on Train \n",
      "               precision    recall  f1-score   support\n",
      "\n",
      "       daisy       1.00      1.00      1.00       595\n",
      "   dandelion       1.00      1.00      1.00       861\n",
      "        rose       1.00      0.99      1.00       620\n",
      "   sunflower       1.00      1.00      1.00       586\n",
      "       tulip       0.99      1.00      1.00       796\n",
      "\n",
      "    accuracy                           1.00      3458\n",
      "   macro avg       1.00      1.00      1.00      3458\n",
      "weighted avg       1.00      1.00      1.00      3458\n",
      "\n"
     ]
    }
   ],
   "source": [
    "print(\"Results on Test \\n\", classification_report(Y_val, pred_y3, target_names=class_labels))\n",
    "print(\" \\nResults on Train \\n\", classification_report(Y_train, pred_t3, target_names=class_labels))"
   ]
  },
  {
   "cell_type": "markdown",
   "metadata": {
    "id": "QL0LfXn-rTCe"
   },
   "source": [
    "## Conclusion"
   ]
  },
  {
   "cell_type": "markdown",
   "metadata": {},
   "source": [
    "Notice that train performance are always on top while the performance on the test are better in the third experiment the one with the high number of parameters 12M, also the first one with just 2M parameters is able to get 76% of accuracy."
   ]
  }
 ],
 "metadata": {
  "accelerator": "GPU",
  "colab": {
   "collapsed_sections": [],
   "name": "Assignment4.ipynb",
   "provenance": [],
   "toc_visible": true
  },
  "kernelspec": {
   "display_name": "Python 3",
   "language": "python",
   "name": "python3"
  },
  "language_info": {
   "codemirror_mode": {
    "name": "ipython",
    "version": 3
   },
   "file_extension": ".py",
   "mimetype": "text/x-python",
   "name": "python",
   "nbconvert_exporter": "python",
   "pygments_lexer": "ipython3",
   "version": "3.8.3"
  },
  "latex_envs": {
   "LaTeX_envs_menu_present": true,
   "autoclose": false,
   "autocomplete": true,
   "bibliofile": "biblio.bib",
   "cite_by": "apalike",
   "current_citInitial": 1,
   "eqLabelWithNumbers": true,
   "eqNumInitial": 1,
   "hotkeys": {
    "equation": "Ctrl-E",
    "itemize": "Ctrl-I"
   },
   "labels_anchors": false,
   "latex_user_defs": false,
   "report_style_numbering": false,
   "user_envs_cfg": false
  },
  "varInspector": {
   "cols": {
    "lenName": 16,
    "lenType": 16,
    "lenVar": 40
   },
   "kernels_config": {
    "python": {
     "delete_cmd_postfix": "",
     "delete_cmd_prefix": "del ",
     "library": "var_list.py",
     "varRefreshCmd": "print(var_dic_list())"
    },
    "r": {
     "delete_cmd_postfix": ") ",
     "delete_cmd_prefix": "rm(",
     "library": "var_list.r",
     "varRefreshCmd": "cat(var_dic_list()) "
    }
   },
   "types_to_exclude": [
    "module",
    "function",
    "builtin_function_or_method",
    "instance",
    "_Feature"
   ],
   "window_display": false
  }
 },
 "nbformat": 4,
 "nbformat_minor": 1
}
